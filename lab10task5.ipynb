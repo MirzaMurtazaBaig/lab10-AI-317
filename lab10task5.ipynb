{
 "cells": [
  {
   "cell_type": "code",
   "execution_count": 2,
   "id": "ec5ceb3b-6385-49f0-9616-bdabd5a5eac7",
   "metadata": {},
   "outputs": [
    {
     "name": "stdout",
     "output_type": "stream",
     "text": [
      "Items in LIFO queue:\n",
      "40\n",
      "30\n",
      "20\n"
     ]
    }
   ],
   "source": [
    "import queue\n",
    "\n",
    "# Create a LIFO queue\n",
    "lifo_queue = queue.LifoQueue()\n",
    "\n",
    "# Adding elements to the queue (pushing to the stack)\n",
    "lifo_queue.put(20)\n",
    "lifo_queue.put(30)\n",
    "lifo_queue.put(40)\n",
    "\n",
    "# Removing elements from the queue (popping from the stack)\n",
    "print(\"Items in LIFO queue:\")\n",
    "while not lifo_queue.empty():\n",
    "    print(lifo_queue.get())\n"
   ]
  },
  {
   "cell_type": "code",
   "execution_count": null,
   "id": "cf58aeaa-62a3-43aa-ae69-0faf54c3f78a",
   "metadata": {},
   "outputs": [],
   "source": []
  }
 ],
 "metadata": {
  "kernelspec": {
   "display_name": "Python 3 (ipykernel)",
   "language": "python",
   "name": "python3"
  },
  "language_info": {
   "codemirror_mode": {
    "name": "ipython",
    "version": 3
   },
   "file_extension": ".py",
   "mimetype": "text/x-python",
   "name": "python",
   "nbconvert_exporter": "python",
   "pygments_lexer": "ipython3",
   "version": "3.11.7"
  }
 },
 "nbformat": 4,
 "nbformat_minor": 5
}
