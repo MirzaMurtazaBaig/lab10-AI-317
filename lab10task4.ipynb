{
 "cells": [
  {
   "cell_type": "code",
   "execution_count": 1,
   "id": "5a011251-f6ef-47fe-a108-43f262353fae",
   "metadata": {},
   "outputs": [
    {
     "name": "stdout",
     "output_type": "stream",
     "text": [
      "Total number of employees: 3\n",
      "Employee Name: Ali, Salary: 50000\n",
      "Employee Name: Bilal, Salary: 60000\n",
      "Employee Name: Sameer, Salary: 70000\n"
     ]
    }
   ],
   "source": [
    "class Employee:\n",
    "    # Class variable to keep track of the number of employees\n",
    "    employee_count = 0\n",
    "\n",
    "    def __init__(self, empName, salary):\n",
    "        # Instance variables\n",
    "        self.empName = empName\n",
    "        self.salary = salary\n",
    "\n",
    "        # Incrementing the employee count each time a new employee is created\n",
    "        Employee.employee_count += 1\n",
    "\n",
    "    # Method to display the total number of employees\n",
    "    @classmethod\n",
    "    def displayCount(cls):\n",
    "        print(f\"Total number of employees: {cls.employee_count}\")\n",
    "\n",
    "    # Method to display employee's name and salary\n",
    "    def displayEmployee(self):\n",
    "        print(f\"Employee Name: {self.empName}, Salary: {self.salary}\")\n",
    "\n",
    "\n",
    "# Creating instances of Employee\n",
    "emp1 = Employee(\"Ali\", 50000)\n",
    "emp2 = Employee(\"Bilal\", 60000)\n",
    "emp3 = Employee(\"Sameer\", 70000)\n",
    "\n",
    "\n",
    "Employee.displayCount()\n",
    "\n",
    "\n",
    "emp1.displayEmployee()\n",
    "emp2.displayEmployee()\n",
    "emp3.displayEmployee()\n"
   ]
  },
  {
   "cell_type": "code",
   "execution_count": null,
   "id": "9c942c98-8d1c-437d-953e-a7e4c2679fa2",
   "metadata": {},
   "outputs": [],
   "source": []
  }
 ],
 "metadata": {
  "kernelspec": {
   "display_name": "Python 3 (ipykernel)",
   "language": "python",
   "name": "python3"
  },
  "language_info": {
   "codemirror_mode": {
    "name": "ipython",
    "version": 3
   },
   "file_extension": ".py",
   "mimetype": "text/x-python",
   "name": "python",
   "nbconvert_exporter": "python",
   "pygments_lexer": "ipython3",
   "version": "3.11.7"
  }
 },
 "nbformat": 4,
 "nbformat_minor": 5
}
