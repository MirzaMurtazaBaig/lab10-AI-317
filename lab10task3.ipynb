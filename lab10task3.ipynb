{
 "cells": [
  {
   "cell_type": "code",
   "execution_count": 1,
   "id": "ed23e2fb-6674-4065-97c0-6992170ca21b",
   "metadata": {},
   "outputs": [
    {
     "name": "stdout",
     "output_type": "stream",
     "text": [
      "Dear Sameer,\n",
      "I would be honored to invite you to dinner!\n",
      "\n",
      "Dear Usama,\n",
      "I would be honored to invite you to dinner!\n",
      "\n",
      "Dear Ahsan,\n",
      "I would be honored to invite you to dinner!\n",
      "\n"
     ]
    }
   ],
   "source": [
    "# Original list of people to invite\n",
    "guests = [\"Sameer\", \"Haseeb\", \"Ahsan\"]\n",
    "\n",
    "# Let's say Maya Angelou can't make it, so we invite a new person instead\n",
    "guests[1] = \"Usama\"  # Replacing Maya Angelou with Nikola Tesla\n",
    "\n",
    "# Printing the new set of invitation messages\n",
    "for guest in guests:\n",
    "    print(f\"Dear {guest},\\nI would be honored to invite you to dinner!\\n\")\n"
   ]
  },
  {
   "cell_type": "code",
   "execution_count": null,
   "id": "29e07534-6520-427d-89d3-1090f0eeed66",
   "metadata": {},
   "outputs": [],
   "source": []
  }
 ],
 "metadata": {
  "kernelspec": {
   "display_name": "Python 3 (ipykernel)",
   "language": "python",
   "name": "python3"
  },
  "language_info": {
   "codemirror_mode": {
    "name": "ipython",
    "version": 3
   },
   "file_extension": ".py",
   "mimetype": "text/x-python",
   "name": "python",
   "nbconvert_exporter": "python",
   "pygments_lexer": "ipython3",
   "version": "3.12.7"
  }
 },
 "nbformat": 4,
 "nbformat_minor": 5
}
