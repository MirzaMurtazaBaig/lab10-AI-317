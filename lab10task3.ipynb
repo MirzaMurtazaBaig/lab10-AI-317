{
 "cells": [
  {
   "cell_type": "code",
   "execution_count": 1,
   "id": "c269306a-fe07-42b2-ab7e-1267de95034a",
   "metadata": {},
   "outputs": [
    {
     "name": "stdout",
     "output_type": "stream",
     "text": [
      "Dear Sameer,\n",
      "I would be honored to invite you to dinner!\n",
      "\n",
      "Dear Nikola Tesla,\n",
      "I would be honored to invite you to dinner!\n",
      "\n",
      "Dear Lukman,\n",
      "I would be honored to invite you to dinner!\n",
      "\n"
     ]
    }
   ],
   "source": [
    "# Original list of people to invite\n",
    "guests = [\"Sameer\", \"Haseeb\", \"Lukman\"]\n",
    "\n",
    "# Let's say Maya Angelou can't make it, so we invite a new person instead\n",
    "guests[1] = \"Nikola Tesla\"  # Replacing Maya Angelou with Nikola Tesla\n",
    "\n",
    "# Printing the new set of invitation messages\n",
    "for guest in guests:\n",
    "    print(f\"Dear {guest},\\nI would be honored to invite you to dinner!\\n\")\n"
   ]
  },
  {
   "cell_type": "code",
   "execution_count": null,
   "id": "1fc0883f-2e14-4d77-9bf8-3d8200e16d26",
   "metadata": {},
   "outputs": [],
   "source": []
  }
 ],
 "metadata": {
  "kernelspec": {
   "display_name": "Python 3 (ipykernel)",
   "language": "python",
   "name": "python3"
  },
  "language_info": {
   "codemirror_mode": {
    "name": "ipython",
    "version": 3
   },
   "file_extension": ".py",
   "mimetype": "text/x-python",
   "name": "python",
   "nbconvert_exporter": "python",
   "pygments_lexer": "ipython3",
   "version": "3.11.7"
  }
 },
 "nbformat": 4,
 "nbformat_minor": 5
}
