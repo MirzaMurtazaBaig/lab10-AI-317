{
 "cells": [
  {
   "cell_type": "code",
   "execution_count": 2,
   "id": "baa0a464-b1f0-4a99-b1d4-f564f0b137f2",
   "metadata": {},
   "outputs": [
    {
     "name": "stdout",
     "output_type": "stream",
     "text": [
      "Dear Junaid,\n",
      "I would be honored to invite you to dinner!\n",
      "\n",
      "Dear Mansoor,\n",
      "I would be honored to invite you to dinner!\n",
      "\n",
      "Dear Talib,\n",
      "I would be honored to invite you to dinner!\n",
      "\n"
     ]
    }
   ],
   "source": [
    "# Creating a list of people to invite to dinner\n",
    "guests = [\"Junaid\", \"Mansoor\", \"Talib\"]\n",
    "\n",
    "# Printing a message for each person\n",
    "for guest in guests:\n",
    "    print(f\"Dear {guest},\\nI would be honored to invite you to dinner!\\n\")\n"
   ]
  },
  {
   "cell_type": "code",
   "execution_count": null,
   "id": "ce0fc387-6c9e-4e15-8831-2bff27d19223",
   "metadata": {},
   "outputs": [],
   "source": []
  }
 ],
 "metadata": {
  "kernelspec": {
   "display_name": "Python 3 (ipykernel)",
   "language": "python",
   "name": "python3"
  },
  "language_info": {
   "codemirror_mode": {
    "name": "ipython",
    "version": 3
   },
   "file_extension": ".py",
   "mimetype": "text/x-python",
   "name": "python",
   "nbconvert_exporter": "python",
   "pygments_lexer": "ipython3",
   "version": "3.11.7"
  }
 },
 "nbformat": 4,
 "nbformat_minor": 5
}
