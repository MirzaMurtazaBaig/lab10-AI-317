{
 "cells": [
  {
   "cell_type": "code",
   "execution_count": 1,
   "id": "cea9ed54-a176-4dfd-80db-7624757c8dd8",
   "metadata": {},
   "outputs": [
    {
     "name": "stdout",
     "output_type": "stream",
     "text": [
      "Alice\n",
      "Bob\n",
      "Charlie\n",
      "Diana\n"
     ]
    }
   ],
   "source": [
    "# Creating a list with names of friends\n",
    "names = [\"Ali\", \"Bobby\", \"Ibad\", \"Jal\"]\n",
    "\n",
    "# Printing each name in the list by accessing each element\n",
    "for name in names:\n",
    "    print(name)\n"
   ]
  },
  {
   "cell_type": "code",
   "execution_count": null,
   "id": "821ccf22-a515-4fce-b603-a1bf7fef9514",
   "metadata": {},
   "outputs": [],
   "source": []
  }
 ],
 "metadata": {
  "kernelspec": {
   "display_name": "Python 3 (ipykernel)",
   "language": "python",
   "name": "python3"
  },
  "language_info": {
   "codemirror_mode": {
    "name": "ipython",
    "version": 3
   },
   "file_extension": ".py",
   "mimetype": "text/x-python",
   "name": "python",
   "nbconvert_exporter": "python",
   "pygments_lexer": "ipython3",
   "version": "3.11.7"
  }
 },
 "nbformat": 4,
 "nbformat_minor": 5
}
