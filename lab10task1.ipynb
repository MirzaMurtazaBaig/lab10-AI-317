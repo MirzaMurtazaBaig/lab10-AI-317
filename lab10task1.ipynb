{
 "cells": [
  {
   "cell_type": "code",
   "execution_count": 1,
   "id": "c2064bad-319f-410f-a82d-d74acc8265b4",
   "metadata": {},
   "outputs": [
    {
     "name": "stdout",
     "output_type": "stream",
     "text": [
      "Ali\n",
      "Bobby\n",
      "Ibad\n",
      "Jal\n"
     ]
    }
   ],
   "source": [
    "# Creating a list with names of friends\n",
    "names = [\"Ali\", \"Bobby\", \"Ibad\", \"Jal\"]\n",
    "\n",
    "# Printing each name in the list by accessing each element\n",
    "for name in names:\n",
    "    print(name)"
   ]
  },
  {
   "cell_type": "code",
   "execution_count": null,
   "id": "79d31101-0f19-4569-b29b-2544a271fec1",
   "metadata": {},
   "outputs": [],
   "source": []
  }
 ],
 "metadata": {
  "kernelspec": {
   "display_name": "Python 3 (ipykernel)",
   "language": "python",
   "name": "python3"
  },
  "language_info": {
   "codemirror_mode": {
    "name": "ipython",
    "version": 3
   },
   "file_extension": ".py",
   "mimetype": "text/x-python",
   "name": "python",
   "nbconvert_exporter": "python",
   "pygments_lexer": "ipython3",
   "version": "3.12.7"
  }
 },
 "nbformat": 4,
 "nbformat_minor": 5
}
